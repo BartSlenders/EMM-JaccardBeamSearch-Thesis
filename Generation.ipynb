{
 "cells": [
  {
   "cell_type": "code",
   "execution_count": 1,
   "id": "946698dd",
   "metadata": {},
   "outputs": [],
   "source": [
    "import Jaccard as J\n",
    "from EMM_fixed import EMM\n",
    "\n",
    "# for data generation\n",
    "import numpy as np\n",
    "import pandas as pd\n",
    "\n",
    "\n",
    "\n",
    "\n",
    "import statsmodels.api as sm\n",
    "\n"
   ]
  },
  {
   "cell_type": "code",
   "execution_count": 22,
   "id": "88754516",
   "metadata": {},
   "outputs": [],
   "source": [
    "datasize = 2000             ## GENERATE DATA (exceptional set) ##\n",
    "randomvariables = 20\n",
    "\n",
    "\n",
    "standard = 10\n",
    "predictor = list(np.random.normal(10,1,datasize))\n",
    "errorsd = 3\n",
    "result = []\n",
    "\n",
    "# we doctor our variables in a non random way\n",
    "v1 = [0,1,0,1,0]*int(datasize/5)\n",
    "v2 = [0]*int(datasize/5*3) + [1]*int(datasize/5*2)\n",
    "\n",
    "\n",
    "noisevars = [list(np.random.binomial(1,0.4,datasize)) for _ in range(randomvariables-2)]\n",
    "\n",
    "variables = [v1, v2] +noisevars\n",
    "# generate result;\n",
    "# result data where first two variables are both 1 is different\n",
    "for i in range(datasize):\n",
    "    v = standard\n",
    "    if variables[2][i] == 0:\n",
    "        v+=6\n",
    "    elif variables[0][i] == 1 and variables[1][i] == 1:\n",
    "        v-=2\n",
    "    # elif variables[0][i] == 1 and variables[2][i] == 1:\n",
    "    #     result.append(4 * predictor[i]   + np.random.normal(0,errorsd) )\n",
    "    result.append((v)* predictor[i]  + np.random.normal(0,errorsd) )\n",
    "\n",
    "\n",
    "# create a dataframe with number i as column title with the before generated columns\n",
    "df = pd.DataFrame({i:ls for i,ls in enumerate(variables)})\n",
    "\n",
    "df['result'] = result\n",
    "df['predictor'] = predictor"
   ]
  },
  {
   "cell_type": "code",
   "execution_count": 23,
   "id": "109544b7",
   "metadata": {},
   "outputs": [
    {
     "name": "stderr",
     "output_type": "stream",
     "text": [
      "2024-11-28 15:32:42,901 - INFO - Start\n",
      "2024-11-28 15:32:42,903 - INFO - Memory usage before downsizing 203.25 MB\n",
      "2024-11-28 15:32:42,912 - INFO - Memory usage after downsizing 54.81 MB\n",
      "2024-11-28 15:32:43,282 - INFO - finished an iteration\n",
      "2024-11-28 15:32:43,283 - DEBUG - --------------------\n",
      "2024-11-28 15:32:43,284 - DEBUG - 2 = 0 1.652917131266548 (1180)\n",
      "2024-11-28 15:32:43,285 - DEBUG - 2 = 1 0.8598049482892828 (820)\n",
      "2024-11-28 15:32:43,285 - DEBUG - 0 = 1 0.09711836251969642 (800)\n",
      "2024-11-28 15:32:43,285 - DEBUG - 1 = 1 0.07966587084937245 (800)\n",
      "2024-11-28 15:32:43,286 - DEBUG - 18 = 1 0.07794570713683895 (791)\n",
      "2024-11-28 15:32:43,286 - DEBUG - 19 = 0 0.07702566571423998 (1225)\n",
      "2024-11-28 15:32:43,287 - DEBUG - 8 = 1 0.0661699826175915 (831)\n",
      "2024-11-28 15:32:43,288 - DEBUG - 10 = 0 0.06452800336139054 (1195)\n",
      "2024-11-28 15:32:43,288 - DEBUG - 3 = 1 0.05486030718514091 (841)\n",
      "2024-11-28 15:32:43,289 - DEBUG - 9 = 0 0.04798419663944681 (1159)\n",
      "2024-11-28 15:32:43,289 - DEBUG - 16 = 0 0.037302013628113154 (1182)\n",
      "2024-11-28 15:32:43,289 - DEBUG - 4 = 0 0.03176243311786811 (1238)\n",
      "2024-11-28 15:32:43,290 - DEBUG - 19 = 1 0.028344047635930104 (775)\n",
      "2024-11-28 15:32:43,290 - DEBUG - 9 = 1 0.02776628112247643 (841)\n",
      "2024-11-28 15:32:43,291 - DEBUG - 0 = 0 0.027196963459875673 (1200)\n",
      "2024-11-28 15:32:43,291 - DEBUG - 15 = 0 0.02637375940641782 (1191)\n",
      "2024-11-28 15:32:43,292 - DEBUG - 13 = 0 0.0254576268130244 (1196)\n",
      "2024-11-28 15:32:43,292 - DEBUG - 11 = 0 0.023986655376948985 (1214)\n",
      "2024-11-28 15:32:43,292 - DEBUG - 14 = 0 0.01974140749495381 (1156)\n",
      "2024-11-28 15:32:43,293 - DEBUG - 16 = 1 0.019230303709079404 (818)\n",
      "2024-11-28 15:32:49,511 - INFO - finished an iteration\n",
      "2024-11-28 15:32:49,511 - DEBUG - --------------------\n",
      "2024-11-28 15:32:49,512 - DEBUG - 4 = 0 AND 2 = 0 1.5995369799083312 (726)\n",
      "2024-11-28 15:32:49,513 - DEBUG - 11 = 0 AND 2 = 0 1.585601025731335 (710)\n",
      "2024-11-28 15:32:49,514 - DEBUG - 13 = 0 AND 2 = 0 1.5852781383770314 (695)\n",
      "2024-11-28 15:32:49,514 - DEBUG - 0 = 0 AND 2 = 0 1.5825774245001551 (700)\n",
      "2024-11-28 15:32:49,515 - DEBUG - 19 = 0 AND 2 = 0 1.5783902104077299 (703)\n",
      "2024-11-28 15:32:49,516 - DEBUG - 10 = 0 AND 2 = 0 1.5736296144136648 (685)\n",
      "2024-11-28 15:32:49,517 - DEBUG - 15 = 0 AND 2 = 0 1.5717125420279048 (697)\n",
      "2024-11-28 15:32:49,517 - DEBUG - 16 = 0 AND 2 = 0 1.5708190236157002 (688)\n",
      "2024-11-28 15:32:49,517 - DEBUG - 9 = 0 AND 2 = 0 1.5598467467476 (669)\n",
      "2024-11-28 15:32:49,518 - DEBUG - 14 = 0 AND 2 = 0 1.5594917831722233 (676)\n",
      "2024-11-28 15:32:49,518 - DEBUG - 9 = 1 AND 2 = 0 1.3837784386814598 (511)\n",
      "2024-11-28 15:32:49,519 - DEBUG - 1 = 1 AND 2 = 1 0.7677348703373341 (317)\n",
      "2024-11-28 15:32:49,519 - DEBUG - 0 = 1 AND 2 = 1 0.7593932354030143 (320)\n",
      "2024-11-28 15:32:49,519 - DEBUG - 19 = 0 AND 2 = 1 0.7346102671170259 (522)\n",
      "2024-11-28 15:32:49,520 - DEBUG - 4 = 0 AND 2 = 1 0.7320151774684317 (512)\n",
      "2024-11-28 15:32:49,520 - DEBUG - 10 = 0 AND 2 = 1 0.7227375534668243 (510)\n",
      "2024-11-28 15:32:49,521 - DEBUG - 15 = 0 AND 2 = 1 0.7227105459059827 (494)\n",
      "2024-11-28 15:32:49,521 - DEBUG - 16 = 0 AND 2 = 1 0.7132143217510266 (494)\n",
      "2024-11-28 15:32:49,521 - DEBUG - 13 = 0 AND 2 = 1 0.7094441891467038 (501)\n",
      "2024-11-28 15:32:49,522 - DEBUG - 11 = 0 AND 2 = 1 0.7068657373841675 (504)\n"
     ]
    }
   ],
   "source": [
    "target_columns = ['predictor','result']\n",
    "Beam = EMM(width=20)\n",
    "Beam.set_data(df, target_columns)\n",
    "Beam.increase_depth()\n",
    "Beam.increase_depth()"
   ]
  },
  {
   "cell_type": "code",
   "execution_count": 28,
   "id": "d2d8a75b",
   "metadata": {},
   "outputs": [
    {
     "data": {
      "text/plain": [
       "[13.45148720435492,\n",
       " 13.451486587524414,\n",
       " 10.984867820265286,\n",
       " 10.984868049621582,\n",
       " 13.109311910312371,\n",
       " 13.1093111038208,\n",
       " 13.537926170957986,\n",
       " 13.537925720214844,\n",
       " 13.400716129223941,\n",
       " 13.352920840864872]"
      ]
     },
     "execution_count": 28,
     "metadata": {},
     "output_type": "execute_result"
    }
   ],
   "source": [
    "Beam.beam.subgroups[0].regressioncache"
   ]
  },
  {
   "cell_type": "code",
   "execution_count": 24,
   "id": "a1144a10",
   "metadata": {},
   "outputs": [
    {
     "name": "stderr",
     "output_type": "stream",
     "text": [
      "2024-11-28 15:32:49,537 - INFO - Start\n",
      "2024-11-28 15:32:49,540 - INFO - Memory usage before downsizing 203.25 MB\n",
      "2024-11-28 15:32:49,555 - INFO - Memory usage after downsizing 54.81 MB\n",
      "2024-11-28 15:32:50,706 - INFO - finished an iteration\n",
      "2024-11-28 15:32:50,707 - DEBUG - --------------------\n",
      "2024-11-28 15:32:50,707 - DEBUG - 2 = 0 0.9436869854617735 (1180), jaccard: 0.42907801418439717\n",
      "2024-11-28 15:32:50,708 - DEBUG - 2 = 1 0.5651113657546168 (820), jaccard: 0.3427445830597505\n",
      "2024-11-28 15:32:50,708 - DEBUG - 0 = 1 0.06546182709028613 (800), jaccard: 0.3259596616785947\n",
      "2024-11-28 15:32:50,709 - DEBUG - 1 = 1 0.0532146131748863 (800), jaccard: 0.33202614379084966\n",
      "2024-11-28 15:32:50,710 - DEBUG - 18 = 1 0.05192891434088961 (791), jaccard: 0.33378196500672946\n",
      "2024-11-28 15:32:50,710 - DEBUG - 8 = 1 0.04376767352991756 (831), jaccard: 0.3385416666666667\n",
      "2024-11-28 15:32:50,711 - DEBUG - 19 = 0 0.04225692610145857 (1225), jaccard: 0.45138479670005893\n",
      "2024-11-28 15:32:50,711 - DEBUG - 10 = 0 0.03641693731750087 (1195), jaccard: 0.43563766388557806\n",
      "2024-11-28 15:32:50,712 - DEBUG - 3 = 1 0.03613875227815662 (841), jaccard: 0.34125412541254124\n",
      "2024-11-28 15:32:50,713 - DEBUG - 9 = 0 0.027419720949916314 (1159), jaccard: 0.42857142857142855\n",
      "2024-11-28 15:32:50,713 - DEBUG - 16 = 0 0.020957260393690547 (1182), jaccard: 0.4381752701080432\n",
      "2024-11-28 15:32:50,713 - DEBUG - 19 = 1 0.019195886556785748 (775), jaccard: 0.3227334235453315\n",
      "2024-11-28 15:32:50,714 - DEBUG - 9 = 1 0.018306747677591856 (841), jaccard: 0.34068786502271253\n",
      "2024-11-28 15:32:50,714 - DEBUG - 4 = 0 0.017425356384229117 (1238), jaccard: 0.45138479670005893\n",
      "2024-11-28 15:32:50,715 - DEBUG - 0 = 0 0.015209426599687633 (1200), jaccard: 0.4407696933253157\n",
      "2024-11-28 15:32:50,715 - DEBUG - 15 = 0 0.014930443422671679 (1191), jaccard: 0.4338942307692308\n",
      "2024-11-28 15:32:50,715 - DEBUG - 13 = 0 0.014236087529068582 (1196), jaccard: 0.4407696933253157\n",
      "2024-11-28 15:32:50,716 - DEBUG - 11 = 0 0.013315258780179756 (1214), jaccard: 0.44490276959340014\n",
      "2024-11-28 15:32:50,716 - DEBUG - 16 = 1 0.012691840828205151 (818), jaccard: 0.33998669328010644\n",
      "2024-11-28 15:32:50,716 - DEBUG - 4 = 1 0.011728131101114612 (762), jaccard: 0.3149764942914708\n"
     ]
    }
   ],
   "source": [
    "JBeam = J.Jaccard_EMM(width=20)\n",
    "JBeam.set_data(df, target_columns)\n",
    "JBeam.increase_depth()"
   ]
  },
  {
   "cell_type": "code",
   "execution_count": 25,
   "id": "3d8ecca2",
   "metadata": {},
   "outputs": [
    {
     "name": "stderr",
     "output_type": "stream",
     "text": [
      "2024-11-28 15:33:00,837 - INFO - finished an iteration\n",
      "2024-11-28 15:33:00,838 - DEBUG - --------------------\n",
      "2024-11-28 15:33:00,839 - DEBUG - 13 = 0 AND 2 = 0 0.9185574823798353 (695), jaccard: 0.42057026476578413\n",
      "2024-11-28 15:33:00,839 - DEBUG - 0 = 1 AND 2 = 0 0.9034574294971611 (480), jaccard: 0.3277216610549944\n",
      "2024-11-28 15:33:00,840 - DEBUG - 9 = 1 AND 2 = 0 0.8989174973399902 (511), jaccard: 0.3503893214682981\n",
      "2024-11-28 15:33:00,840 - DEBUG - 9 = 0 AND 2 = 0 0.895527857294066 (669), jaccard: 0.42588726513569936\n",
      "2024-11-28 15:33:00,841 - DEBUG - 16 = 1 AND 2 = 0 0.8920754089962465 (492), jaccard: 0.3458049886621315\n",
      "2024-11-28 15:33:00,841 - DEBUG - 4 = 1 AND 2 = 0 0.8917565281658729 (454), jaccard: 0.31844215349369986\n",
      "2024-11-28 15:33:00,841 - DEBUG - 8 = 1 AND 2 = 0 0.8886042328350349 (481), jaccard: 0.3393665158371041\n",
      "2024-11-28 15:33:00,842 - DEBUG - 10 = 0 AND 2 = 0 0.8864835288204256 (685), jaccard: 0.43666323377960864\n",
      "2024-11-28 15:33:00,842 - DEBUG - 19 = 1 AND 2 = 0 0.8838530651292078 (477), jaccard: 0.3325766174801362\n",
      "2024-11-28 15:33:00,843 - DEBUG - 1 = 1 AND 2 = 0 0.8823918977846389 (483), jaccard: 0.34933035714285715\n",
      "2024-11-28 15:33:00,843 - DEBUG - 3 = 1 AND 2 = 0 0.882255229721281 (488), jaccard: 0.34965831435079725\n",
      "2024-11-28 15:33:00,844 - DEBUG - 0 = 0 AND 2 = 0 0.8817690481678021 (700), jaccard: 0.44282744282744285\n",
      "2024-11-28 15:33:00,844 - DEBUG - 4 = 0 AND 2 = 0 0.8789376518681193 (726), jaccard: 0.4505050505050505\n",
      "2024-11-28 15:33:00,844 - DEBUG - 15 = 0 AND 2 = 0 0.8774995811559031 (697), jaccard: 0.44169246646026833\n",
      "2024-11-28 15:33:00,845 - DEBUG - 19 = 0 AND 2 = 0 0.8715528171847396 (703), jaccard: 0.44782168186423504\n",
      "2024-11-28 15:33:00,845 - DEBUG - 11 = 0 AND 2 = 0 0.8712796723959841 (710), jaccard: 0.4505050505050505\n",
      "2024-11-28 15:33:00,846 - DEBUG - 16 = 0 AND 2 = 0 0.8706919455704003 (688), jaccard: 0.44570837642192346\n",
      "2024-11-28 15:33:00,846 - DEBUG - 18 = 1 AND 2 = 0 0.839589010256706 (449), jaccard: 0.34823529411764703\n",
      "2024-11-28 15:33:00,846 - DEBUG - 19 = 0 AND 2 = 1 0.49382767425353186 (522), jaccard: 0.3277693474962064\n",
      "2024-11-28 15:33:00,847 - DEBUG - 3 = 1 AND 2 = 1 0.4205368384982229 (353), jaccard: 0.3277693474962064\n"
     ]
    }
   ],
   "source": [
    "JBeam.increase_depth()"
   ]
  },
  {
   "cell_type": "code",
   "execution_count": 6,
   "id": "18333bad",
   "metadata": {},
   "outputs": [],
   "source": [
    "datasize = 2000             ## GENERATE DATA (noisy) ##\n",
    "randomvariables = 9\n",
    "\n",
    "\n",
    "standard = 10\n",
    "predictor = list(np.random.normal(10,1,datasize))\n",
    "errorsd = 10\n",
    "result = []\n",
    "\n",
    "# we doctor our variables in a non random way\n",
    "v1 = [0,1,0,1,0]*int(datasize/5)\n",
    "v2 = [0]*int(datasize/5*3) + [1]*int(datasize/5*2)\n",
    "\n",
    "\n",
    "noisevars = [list(np.random.binomial(1,0.4,datasize)) for _ in range(randomvariables-2)]\n",
    "\n",
    "variables = [v1, v2] +noisevars\n",
    "# generate result;\n",
    "# result data where first two variables are both 1 is different\n",
    "for i in range(datasize):\n",
    "    if variables[0][i] == 1 and variables[1][i] == 1:\n",
    "        result.append((standard+3)* predictor[i]  + np.random.normal(0,errorsd) )\n",
    "    elif variables[2][i] == 0:\n",
    "        result.append((standard+1)*predictor[i] + np.random.normal(0, errorsd) )\n",
    "    # elif variables[0][i] == 1 and variables[2][i] == 1:\n",
    "    #     result.append(4 * predictor[i]   + np.random.normal(0,errorsd) )\n",
    "    else:\n",
    "        result.append((standard)* predictor[i]  + np.random.normal(0,errorsd) )\n",
    "\n",
    "\n",
    "# create a dataframe with number i as column title with the before generated columns\n",
    "df = pd.DataFrame({i:ls for i,ls in enumerate(variables)})\n",
    "\n",
    "df['result'] = result\n",
    "df['predictor'] = predictor"
   ]
  },
  {
   "cell_type": "code",
   "execution_count": 7,
   "id": "fec9247a",
   "metadata": {},
   "outputs": [
    {
     "name": "stderr",
     "output_type": "stream",
     "text": [
      "2024-11-28 15:19:57,233 - INFO - Start\n",
      "2024-11-28 15:19:57,235 - INFO - Memory usage before downsizing 117.31 MB\n",
      "2024-11-28 15:19:57,241 - INFO - Memory usage after downsizing 33.33 MB\n",
      "2024-11-28 15:19:57,399 - INFO - finished an iteration\n",
      "2024-11-28 15:19:57,399 - DEBUG - --------------------\n",
      "2024-11-28 15:19:57,400 - DEBUG - 0 = 1 0.3819634128723852 (800)\n",
      "2024-11-28 15:19:57,400 - DEBUG - 1 = 1 0.3770320150116914 (800)\n",
      "2024-11-28 15:19:57,401 - DEBUG - 2 = 1 0.3133187838510511 (808)\n",
      "2024-11-28 15:19:57,401 - DEBUG - 0 = 0 0.25293284942777977 (1200)\n",
      "2024-11-28 15:19:57,402 - DEBUG - 1 = 0 0.25235743819658557 (1200)\n",
      "2024-11-28 15:19:57,402 - DEBUG - 2 = 0 0.21007028777117331 (1192)\n",
      "2024-11-28 15:19:57,403 - DEBUG - 4 = 1 0.04856985635811781 (818)\n",
      "2024-11-28 15:19:57,403 - DEBUG - 4 = 0 0.0340744889939905 (1182)\n",
      "2024-11-28 15:19:57,404 - DEBUG - 3 = 1 0.01938536308107803 (803)\n",
      "2024-11-28 15:19:57,404 - DEBUG - 7 = 1 0.01913105628643302 (794)\n",
      "2024-11-28 15:19:57,405 - DEBUG - 8 = 1 0.018374058709866203 (770)\n",
      "2024-11-28 15:19:57,405 - DEBUG - 3 = 0 0.013229927838355457 (1197)\n",
      "2024-11-28 15:19:57,405 - DEBUG - 7 = 0 0.012567750623386952 (1206)\n",
      "2024-11-28 15:19:57,406 - DEBUG - 8 = 0 0.011409958207150387 (1230)\n",
      "2024-11-28 15:19:57,406 - DEBUG - 6 = 1 0.003552134731625391 (809)\n",
      "2024-11-28 15:19:57,407 - DEBUG - 5 = 1 0.0027502673996642264 (795)\n",
      "2024-11-28 15:19:57,407 - DEBUG - 6 = 0 0.002409925601720021 (1191)\n",
      "2024-11-28 15:19:57,407 - DEBUG - 5 = 0 0.0018268210651586343 (1205)\n"
     ]
    }
   ],
   "source": [
    "target_columns = ['predictor','result']\n",
    "Beam = EMM(width=20)\n",
    "Beam.set_data(df, target_columns)\n",
    "Beam.increase_depth()\n"
   ]
  },
  {
   "cell_type": "code",
   "execution_count": 8,
   "id": "01c604a8",
   "metadata": {},
   "outputs": [
    {
     "name": "stderr",
     "output_type": "stream",
     "text": [
      "2024-11-28 15:19:59,693 - INFO - finished an iteration\n",
      "2024-11-28 15:19:59,694 - DEBUG - --------------------\n",
      "2024-11-28 15:19:59,695 - DEBUG - 7 = 0 AND 1 = 1 0.3448619692805586 (470)\n",
      "2024-11-28 15:19:59,696 - DEBUG - 7 = 0 AND 0 = 1 0.321542621402582 (488)\n",
      "2024-11-28 15:19:59,696 - DEBUG - 4 = 0 AND 0 = 1 0.3198020924067213 (483)\n",
      "2024-11-28 15:19:59,697 - DEBUG - 1 = 0 AND 2 = 1 0.3126788772432939 (485)\n",
      "2024-11-28 15:19:59,698 - DEBUG - 0 = 0 AND 2 = 1 0.3113474095204938 (479)\n",
      "2024-11-28 15:19:59,699 - DEBUG - 6 = 0 AND 1 = 1 0.30575083990343954 (467)\n",
      "2024-11-28 15:19:59,699 - DEBUG - 5 = 0 AND 0 = 1 0.30008799043419726 (492)\n",
      "2024-11-28 15:19:59,700 - DEBUG - 6 = 0 AND 0 = 1 0.2997012984255724 (484)\n",
      "2024-11-28 15:19:59,700 - DEBUG - 4 = 0 AND 1 = 1 0.2981038100432321 (470)\n",
      "2024-11-28 15:19:59,701 - DEBUG - 8 = 0 AND 1 = 1 0.29702845725269966 (475)\n",
      "2024-11-28 15:19:59,701 - DEBUG - 3 = 0 AND 1 = 1 0.2956038943017902 (468)\n",
      "2024-11-28 15:19:59,701 - DEBUG - 8 = 0 AND 0 = 1 0.2897187256776816 (479)\n",
      "2024-11-28 15:19:59,702 - DEBUG - 3 = 1 AND 0 = 1 0.2842621408847012 (329)\n",
      "2024-11-28 15:19:59,702 - DEBUG - 5 = 0 AND 1 = 1 0.28335568816264217 (470)\n",
      "2024-11-28 15:19:59,703 - DEBUG - 8 = 0 AND 2 = 1 0.27757780175682445 (478)\n",
      "2024-11-28 15:19:59,703 - DEBUG - 3 = 0 AND 0 = 1 0.2730257823613415 (471)\n",
      "2024-11-28 15:19:59,703 - DEBUG - 7 = 0 AND 1 = 0 0.25643673130234784 (736)\n",
      "2024-11-28 15:19:59,704 - DEBUG - 6 = 0 AND 1 = 0 0.24199859756952274 (724)\n",
      "2024-11-28 15:19:59,704 - DEBUG - 5 = 1 AND 1 = 0 0.23911854580598163 (465)\n",
      "2024-11-28 15:19:59,705 - DEBUG - 5 = 0 AND 0 = 0 0.23841270479305662 (713)\n"
     ]
    }
   ],
   "source": [
    "Beam.increase_depth()"
   ]
  },
  {
   "cell_type": "code",
   "execution_count": 9,
   "id": "6d43e9ef",
   "metadata": {},
   "outputs": [
    {
     "name": "stderr",
     "output_type": "stream",
     "text": [
      "2024-11-28 15:19:59,718 - INFO - Start\n",
      "2024-11-28 15:19:59,720 - INFO - Memory usage before downsizing 117.31 MB\n",
      "2024-11-28 15:19:59,725 - INFO - Memory usage after downsizing 33.33 MB\n",
      "2024-11-28 15:19:59,930 - INFO - finished an iteration\n",
      "2024-11-28 15:19:59,931 - DEBUG - --------------------\n",
      "2024-11-28 15:19:59,931 - DEBUG - 1 = 1 0.2579691744861877 (800), jaccard: 0.3157894736842105\n",
      "2024-11-28 15:19:59,932 - DEBUG - 0 = 1 0.2577556545057972 (800), jaccard: 0.325181758096497\n",
      "2024-11-28 15:19:59,932 - DEBUG - 2 = 1 0.2095031314247582 (808), jaccard: 0.33134130146082336\n",
      "2024-11-28 15:19:59,932 - DEBUG - 0 = 0 0.13979865310979148 (1200), jaccard: 0.4472900536033353\n",
      "2024-11-28 15:19:59,933 - DEBUG - 1 = 0 0.13860824271152147 (1200), jaccard: 0.4507462686567164\n",
      "2024-11-28 15:19:59,933 - DEBUG - 2 = 0 0.11547568584475644 (1192), jaccard: 0.4502994011976048\n",
      "2024-11-28 15:19:59,933 - DEBUG - 4 = 1 0.032529566538897 (818), jaccard: 0.33025708635464734\n",
      "2024-11-28 15:19:59,934 - DEBUG - 4 = 0 0.019409852447230314 (1182), jaccard: 0.43037974683544306\n",
      "2024-11-28 15:19:59,934 - DEBUG - 3 = 1 0.013004929694414235 (803), jaccard: 0.3291139240506329\n",
      "2024-11-28 15:19:59,934 - DEBUG - 7 = 1 0.0128703014898106 (794), jaccard: 0.32721311475409837\n",
      "2024-11-28 15:19:59,935 - DEBUG - 8 = 1 0.012500830724006677 (770), jaccard: 0.319650067294751\n",
      "2024-11-28 15:19:59,935 - DEBUG - 3 = 0 0.007347167658360532 (1197), jaccard: 0.4446428571428571\n",
      "2024-11-28 15:19:59,935 - DEBUG - 7 = 0 0.0070189406654325125 (1206), jaccard: 0.4415116976604679\n",
      "2024-11-28 15:19:59,936 - DEBUG - 8 = 0 0.006266910558326374 (1230), jaccard: 0.4507462686567164\n",
      "2024-11-28 15:19:59,936 - DEBUG - 6 = 1 0.002354578018093205 (809), jaccard: 0.33704918032786885\n",
      "2024-11-28 15:19:59,936 - DEBUG - 5 = 1 0.0018580401729181115 (795), jaccard: 0.3242885506287227\n",
      "2024-11-28 15:19:59,937 - DEBUG - 6 = 0 0.0013178476400765487 (1191), jaccard: 0.4530018192844148\n",
      "2024-11-28 15:19:59,937 - DEBUG - 5 = 0 0.0009994078312145355 (1205), jaccard: 0.4530018192844148\n"
     ]
    }
   ],
   "source": [
    "JBeam = J.Jaccard_EMM(width=20)\n",
    "JBeam.set_data(df, target_columns)\n",
    "JBeam.increase_depth()"
   ]
  },
  {
   "cell_type": "code",
   "execution_count": 10,
   "id": "23ac2475",
   "metadata": {},
   "outputs": [
    {
     "name": "stderr",
     "output_type": "stream",
     "text": [
      "2024-11-28 15:20:03,879 - INFO - finished an iteration\n",
      "2024-11-28 15:20:03,879 - DEBUG - --------------------\n",
      "2024-11-28 15:20:03,880 - DEBUG - 8 = 0 AND 2 = 1 0.2102637897579163 (478), jaccard: 0.242503259452412\n",
      "2024-11-28 15:20:03,880 - DEBUG - 7 = 0 AND 1 = 1 0.19736377650025083 (470), jaccard: 0.4277016742770167\n",
      "2024-11-28 15:20:03,880 - DEBUG - 3 = 1 AND 0 = 1 0.19198155014032656 (329), jaccard: 0.32463295269168024\n",
      "2024-11-28 15:20:03,882 - DEBUG - 5 = 1 AND 1 = 1 0.18259839799200428 (330), jaccard: 0.335559265442404\n",
      "2024-11-28 15:20:03,883 - DEBUG - 7 = 0 AND 0 = 1 0.18143186438979675 (488), jaccard: 0.4357459379615953\n",
      "2024-11-28 15:20:03,883 - DEBUG - 4 = 0 AND 0 = 1 0.18009627853806204 (483), jaccard: 0.43684992570579495\n",
      "2024-11-28 15:20:03,883 - DEBUG - 6 = 1 AND 0 = 1 0.17981228949038097 (316), jaccard: 0.3158756137479542\n",
      "2024-11-28 15:20:03,884 - DEBUG - 7 = 0 AND 1 = 0 0.17681517186947662 (736), jaccard: 0.31049250535331907\n",
      "2024-11-28 15:20:03,884 - DEBUG - 8 = 1 AND 0 = 1 0.17654850389955215 (321), jaccard: 0.334983498349835\n",
      "2024-11-28 15:20:03,885 - DEBUG - 5 = 1 AND 0 = 1 0.17536409373298573 (308), jaccard: 0.3311036789297659\n",
      "2024-11-28 15:20:03,887 - DEBUG - 6 = 0 AND 1 = 1 0.17277514593236862 (467), jaccard: 0.4349157733537519\n",
      "2024-11-28 15:20:03,888 - DEBUG - 3 = 1 AND 1 = 1 0.17143143821538248 (332), jaccard: 0.31260229132569556\n",
      "2024-11-28 15:20:03,888 - DEBUG - 6 = 0 AND 0 = 1 0.1687765330464376 (484), jaccard: 0.43684992570579495\n",
      "2024-11-28 15:20:03,889 - DEBUG - 4 = 0 AND 1 = 1 0.16845346223210686 (470), jaccard: 0.4349157733537519\n",
      "2024-11-28 15:20:03,890 - DEBUG - 6 = 0 AND 0 = 0 0.16791762708199187 (707), jaccard: 0.30589543937708563\n",
      "2024-11-28 15:20:03,891 - DEBUG - 8 = 0 AND 1 = 1 0.1670784158661339 (475), jaccard: 0.4375\n",
      "2024-11-28 15:20:03,891 - DEBUG - 3 = 0 AND 1 = 1 0.16627761351753698 (468), jaccard: 0.4375\n",
      "2024-11-28 15:20:03,892 - DEBUG - 8 = 1 AND 1 = 1 0.1648869723937863 (325), jaccard: 0.33613445378151263\n",
      "2024-11-28 15:20:03,894 - DEBUG - 8 = 0 AND 0 = 1 0.16487687017315564 (479), jaccard: 0.4309063893016345\n",
      "2024-11-28 15:20:03,895 - DEBUG - 6 = 1 AND 1 = 1 0.16393395889969176 (333), jaccard: 0.33996683250414594\n"
     ]
    }
   ],
   "source": [
    "JBeam.increase_depth()"
   ]
  },
  {
   "cell_type": "code",
   "execution_count": 11,
   "id": "e9e571fa",
   "metadata": {},
   "outputs": [
    {
     "data": {
      "text/plain": [
       "12.972435747153506"
      ]
     },
     "execution_count": 11,
     "metadata": {},
     "output_type": "execute_result"
    }
   ],
   "source": [
    "testset = df[(df[1]==1)&(df[0]==1)][[0,1,'result', 'predictor']]\n",
    "l = []\n",
    "for i,j in zip(testset['predictor'], testset['result']):\n",
    "    l.append(j/i)\n",
    "sum(l)/len(l)"
   ]
  },
  {
   "cell_type": "code",
   "execution_count": 12,
   "id": "84662cc2",
   "metadata": {},
   "outputs": [
    {
     "name": "stdout",
     "output_type": "stream",
     "text": [
      "12.977266781897999\n"
     ]
    },
    {
     "data": {
      "text/html": [
       "<table class=\"simpletable\">\n",
       "<caption>OLS Regression Results</caption>\n",
       "<tr>\n",
       "  <th>Dep. Variable:</th>         <td>result</td>      <th>  R-squared (uncentered):</th>      <td>   0.994</td> \n",
       "</tr>\n",
       "<tr>\n",
       "  <th>Model:</th>                   <td>OLS</td>       <th>  Adj. R-squared (uncentered):</th> <td>   0.994</td> \n",
       "</tr>\n",
       "<tr>\n",
       "  <th>Method:</th>             <td>Least Squares</td>  <th>  F-statistic:       </th>          <td>5.219e+04</td>\n",
       "</tr>\n",
       "<tr>\n",
       "  <th>Date:</th>             <td>Thu, 28 Nov 2024</td> <th>  Prob (F-statistic):</th>           <td>  0.00</td>  \n",
       "</tr>\n",
       "<tr>\n",
       "  <th>Time:</th>                 <td>15:20:03</td>     <th>  Log-Likelihood:    </th>          <td> -1197.3</td> \n",
       "</tr>\n",
       "<tr>\n",
       "  <th>No. Observations:</th>      <td>   320</td>      <th>  AIC:               </th>          <td>   2397.</td> \n",
       "</tr>\n",
       "<tr>\n",
       "  <th>Df Residuals:</th>          <td>   319</td>      <th>  BIC:               </th>          <td>   2400.</td> \n",
       "</tr>\n",
       "<tr>\n",
       "  <th>Df Model:</th>              <td>     1</td>      <th>                     </th>              <td> </td>    \n",
       "</tr>\n",
       "<tr>\n",
       "  <th>Covariance Type:</th>      <td>nonrobust</td>    <th>                     </th>              <td> </td>    \n",
       "</tr>\n",
       "</table>\n",
       "<table class=\"simpletable\">\n",
       "<tr>\n",
       "      <td></td>         <th>coef</th>     <th>std err</th>      <th>t</th>      <th>P>|t|</th>  <th>[0.025</th>    <th>0.975]</th>  \n",
       "</tr>\n",
       "<tr>\n",
       "  <th>predictor</th> <td>   12.9773</td> <td>    0.057</td> <td>  228.443</td> <td> 0.000</td> <td>   12.866</td> <td>   13.089</td>\n",
       "</tr>\n",
       "</table>\n",
       "<table class=\"simpletable\">\n",
       "<tr>\n",
       "  <th>Omnibus:</th>       <td> 0.219</td> <th>  Durbin-Watson:     </th> <td>   1.996</td>\n",
       "</tr>\n",
       "<tr>\n",
       "  <th>Prob(Omnibus):</th> <td> 0.896</td> <th>  Jarque-Bera (JB):  </th> <td>   0.316</td>\n",
       "</tr>\n",
       "<tr>\n",
       "  <th>Skew:</th>          <td> 0.054</td> <th>  Prob(JB):          </th> <td>   0.854</td>\n",
       "</tr>\n",
       "<tr>\n",
       "  <th>Kurtosis:</th>      <td> 2.890</td> <th>  Cond. No.          </th> <td>    1.00</td>\n",
       "</tr>\n",
       "</table><br/><br/>Notes:<br/>[1] R² is computed without centering (uncentered) since the model does not contain a constant.<br/>[2] Standard Errors assume that the covariance matrix of the errors is correctly specified."
      ],
      "text/latex": [
       "\\begin{center}\n",
       "\\begin{tabular}{lclc}\n",
       "\\toprule\n",
       "\\textbf{Dep. Variable:}    &      result      & \\textbf{  R-squared (uncentered):}      &     0.994   \\\\\n",
       "\\textbf{Model:}            &       OLS        & \\textbf{  Adj. R-squared (uncentered):} &     0.994   \\\\\n",
       "\\textbf{Method:}           &  Least Squares   & \\textbf{  F-statistic:       }          & 5.219e+04   \\\\\n",
       "\\textbf{Date:}             & Thu, 28 Nov 2024 & \\textbf{  Prob (F-statistic):}          &     0.00    \\\\\n",
       "\\textbf{Time:}             &     15:20:03     & \\textbf{  Log-Likelihood:    }          &   -1197.3   \\\\\n",
       "\\textbf{No. Observations:} &         320      & \\textbf{  AIC:               }          &     2397.   \\\\\n",
       "\\textbf{Df Residuals:}     &         319      & \\textbf{  BIC:               }          &     2400.   \\\\\n",
       "\\textbf{Df Model:}         &           1      & \\textbf{                     }          &             \\\\\n",
       "\\textbf{Covariance Type:}  &    nonrobust     & \\textbf{                     }          &             \\\\\n",
       "\\bottomrule\n",
       "\\end{tabular}\n",
       "\\begin{tabular}{lcccccc}\n",
       "                   & \\textbf{coef} & \\textbf{std err} & \\textbf{t} & \\textbf{P$> |$t$|$} & \\textbf{[0.025} & \\textbf{0.975]}  \\\\\n",
       "\\midrule\n",
       "\\textbf{predictor} &      12.9773  &        0.057     &   228.443  &         0.000        &       12.866    &       13.089     \\\\\n",
       "\\bottomrule\n",
       "\\end{tabular}\n",
       "\\begin{tabular}{lclc}\n",
       "\\textbf{Omnibus:}       &  0.219 & \\textbf{  Durbin-Watson:     } &    1.996  \\\\\n",
       "\\textbf{Prob(Omnibus):} &  0.896 & \\textbf{  Jarque-Bera (JB):  } &    0.316  \\\\\n",
       "\\textbf{Skew:}          &  0.054 & \\textbf{  Prob(JB):          } &    0.854  \\\\\n",
       "\\textbf{Kurtosis:}      &  2.890 & \\textbf{  Cond. No.          } &     1.00  \\\\\n",
       "\\bottomrule\n",
       "\\end{tabular}\n",
       "%\\caption{OLS Regression Results}\n",
       "\\end{center}\n",
       "\n",
       "Notes: \\newline\n",
       " [1] R² is computed without centering (uncentered) since the model does not contain a constant. \\newline\n",
       " [2] Standard Errors assume that the covariance matrix of the errors is correctly specified."
      ],
      "text/plain": [
       "<class 'statsmodels.iolib.summary.Summary'>\n",
       "\"\"\"\n",
       "                                 OLS Regression Results                                \n",
       "=======================================================================================\n",
       "Dep. Variable:                 result   R-squared (uncentered):                   0.994\n",
       "Model:                            OLS   Adj. R-squared (uncentered):              0.994\n",
       "Method:                 Least Squares   F-statistic:                          5.219e+04\n",
       "Date:                Thu, 28 Nov 2024   Prob (F-statistic):                        0.00\n",
       "Time:                        15:20:03   Log-Likelihood:                         -1197.3\n",
       "No. Observations:                 320   AIC:                                      2397.\n",
       "Df Residuals:                     319   BIC:                                      2400.\n",
       "Df Model:                           1                                                  \n",
       "Covariance Type:            nonrobust                                                  \n",
       "==============================================================================\n",
       "                 coef    std err          t      P>|t|      [0.025      0.975]\n",
       "------------------------------------------------------------------------------\n",
       "predictor     12.9773      0.057    228.443      0.000      12.866      13.089\n",
       "==============================================================================\n",
       "Omnibus:                        0.219   Durbin-Watson:                   1.996\n",
       "Prob(Omnibus):                  0.896   Jarque-Bera (JB):                0.316\n",
       "Skew:                           0.054   Prob(JB):                        0.854\n",
       "Kurtosis:                       2.890   Cond. No.                         1.00\n",
       "==============================================================================\n",
       "\n",
       "Notes:\n",
       "[1] R² is computed without centering (uncentered) since the model does not contain a constant.\n",
       "[2] Standard Errors assume that the covariance matrix of the errors is correctly specified.\n",
       "\"\"\""
      ]
     },
     "execution_count": 12,
     "metadata": {},
     "output_type": "execute_result"
    }
   ],
   "source": [
    "est2 = sm.OLS(testset['result'], testset['predictor'])\n",
    "est2 = est2.fit()\n",
    "cache = est2.summary2().tables[1]['Coef.']['predictor']\n",
    "print(cache)\n",
    "est2.summary()"
   ]
  },
  {
   "cell_type": "code",
   "execution_count": null,
   "id": "be681401",
   "metadata": {},
   "outputs": [],
   "source": []
  },
  {
   "cell_type": "code",
   "execution_count": null,
   "id": "24276cbb",
   "metadata": {},
   "outputs": [],
   "source": []
  },
  {
   "cell_type": "code",
   "execution_count": null,
   "id": "ee00905a",
   "metadata": {},
   "outputs": [],
   "source": []
  },
  {
   "cell_type": "code",
   "execution_count": 13,
   "id": "5a64f87e",
   "metadata": {},
   "outputs": [
    {
     "ename": "TypeError",
     "evalue": "Jaccard_EMM.__init__() got an unexpected keyword argument 'evaluation_metric'",
     "output_type": "error",
     "traceback": [
      "\u001b[1;31m---------------------------------------------------------------------------\u001b[0m",
      "\u001b[1;31mTypeError\u001b[0m                                 Traceback (most recent call last)",
      "Cell \u001b[1;32mIn [13], line 2\u001b[0m\n\u001b[0;32m      1\u001b[0m target_columns \u001b[38;5;241m=\u001b[39m [\u001b[38;5;124m'\u001b[39m\u001b[38;5;124mresult\u001b[39m\u001b[38;5;124m'\u001b[39m,\u001b[38;5;124m'\u001b[39m\u001b[38;5;124mpredictor\u001b[39m\u001b[38;5;124m'\u001b[39m]\n\u001b[1;32m----> 2\u001b[0m Beam \u001b[38;5;241m=\u001b[39m \u001b[43mJ\u001b[49m\u001b[38;5;241;43m.\u001b[39;49m\u001b[43mJaccard_EMM\u001b[49m\u001b[43m(\u001b[49m\u001b[43mwidth\u001b[49m\u001b[38;5;241;43m=\u001b[39;49m\u001b[38;5;241;43m20\u001b[39;49m\u001b[43m,\u001b[49m\u001b[43m \u001b[49m\u001b[43mdepth\u001b[49m\u001b[38;5;241;43m=\u001b[39;49m\u001b[38;5;241;43m2\u001b[39;49m\u001b[43m,\u001b[49m\u001b[43m \u001b[49m\u001b[43mevaluation_metric\u001b[49m\u001b[38;5;241;43m=\u001b[39;49m\u001b[38;5;124;43m'\u001b[39;49m\u001b[38;5;124;43mregression\u001b[39;49m\u001b[38;5;124;43m'\u001b[39;49m\u001b[43m,\u001b[49m\u001b[43m \u001b[49m\u001b[43mn_jobs\u001b[49m\u001b[38;5;241;43m=\u001b[39;49m\u001b[38;5;241;43m-\u001b[39;49m\u001b[38;5;241;43m1\u001b[39;49m\u001b[43m,\u001b[49m\u001b[43m \u001b[49m\u001b[43mlog_level\u001b[49m\u001b[38;5;241;43m=\u001b[39;49m\u001b[38;5;241;43m1\u001b[39;49m\u001b[43m)\u001b[49m\n\u001b[0;32m      3\u001b[0m Beam\u001b[38;5;241m.\u001b[39mset_data(df, target_columns)\n\u001b[0;32m      4\u001b[0m Beam\u001b[38;5;241m.\u001b[39mincrease_depth(\u001b[38;5;241m1\u001b[39m)\n",
      "\u001b[1;31mTypeError\u001b[0m: Jaccard_EMM.__init__() got an unexpected keyword argument 'evaluation_metric'"
     ]
    }
   ],
   "source": [
    "target_columns = ['result','predictor']\n",
    "Beam = J.Jaccard_EMM(width=20, depth=2, evaluation_metric='regression', n_jobs=-1, log_level=1)\n",
    "Beam.set_data(df, target_columns)\n",
    "Beam.increase_depth(1)\n",
    "for i in Beam.beam.subgroups:\n",
    "    print(i.description.description)\n",
    "print('next')\n",
    "Beam.increase_depth(1)\n",
    "for i in Beam.beam.subgroups:\n",
    "    print(i.description.description)"
   ]
  },
  {
   "cell_type": "code",
   "execution_count": null,
   "id": "7d325078",
   "metadata": {},
   "outputs": [],
   "source": []
  }
 ],
 "metadata": {
  "kernelspec": {
   "display_name": "Python 3",
   "language": "python",
   "name": "python3"
  },
  "language_info": {
   "codemirror_mode": {
    "name": "ipython",
    "version": 3
   },
   "file_extension": ".py",
   "mimetype": "text/x-python",
   "name": "python",
   "nbconvert_exporter": "python",
   "pygments_lexer": "ipython3",
   "version": "3.11.0"
  }
 },
 "nbformat": 4,
 "nbformat_minor": 5
}
